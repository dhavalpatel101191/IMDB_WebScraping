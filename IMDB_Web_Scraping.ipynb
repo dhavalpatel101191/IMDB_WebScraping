{
 "cells": [
  {
   "cell_type": "code",
   "execution_count": 14,
   "metadata": {},
   "outputs": [],
   "source": [
    "from bs4 import BeautifulSoup\n",
    "import requests,openpyxl"
   ]
  },
  {
   "cell_type": "code",
   "execution_count": 15,
   "metadata": {},
   "outputs": [],
   "source": [
    "excel = openpyxl.Workbook()\n",
    "sheet = excel.active\n",
    "sheet.title = 'Top Rated Movies'\n",
    "sheet.append(['Movie Rank','Movie Name','Release Year','IMDB Rating'])"
   ]
  },
  {
   "cell_type": "code",
   "execution_count": 16,
   "metadata": {},
   "outputs": [],
   "source": [
    "URL = 'https://www.imdb.com/chart/top/'\n",
    "Header = headers = {\"User-Agent\": \"Mozilla/5.0 (Windows NT 10.0; Win64; x64) AppleWebKit/537.36 (KHTML, like Gecko) Chrome/103.0.0.0 Safari/537.36\", \"Accept-Encoding\":\"gzip, deflate\", \"Accept\":\"text/html,application/xhtml+xml,application/xml;q=0.9,*/*;q=0.8\", \"DNT\":\"1\",\"Connection\":\"close\", \"Upgrade-Insecure-Requests\":\"1\"}\n",
    "\n",
    "try: \n",
    "   page = requests.get(URL, headers=headers)\n",
    "   soup1 = BeautifulSoup(page.content, \"html.parser\")\n",
    "   results = soup1.find('tbody',class_='lister-list').find_all('tr')\n",
    "   for r in results:\n",
    "       Name = r.find('td',class_='titleColumn').a.text\n",
    "       Rank = r.find('td',class_='titleColumn').get_text(strip=True).split('.')[0]\n",
    "       Rating = r.find('td',class_='ratingColumn imdbRating').get_text(strip=True)\n",
    "       Year = r.find('span',class_='secondaryInfo').text.strip('()')\n",
    "       sheet.append([Rank,Name,Year,Rating])\n",
    "       \n",
    "\n",
    "except Exception as e:\n",
    "    print(e)\n",
    "\n",
    "excel.save('IMDB Movie Rating.xlsx')\n"
   ]
  }
 ],
 "metadata": {
  "kernelspec": {
   "display_name": "Python 3.10.5 ('Web_Scraping')",
   "language": "python",
   "name": "python3"
  },
  "language_info": {
   "codemirror_mode": {
    "name": "ipython",
    "version": 3
   },
   "file_extension": ".py",
   "mimetype": "text/x-python",
   "name": "python",
   "nbconvert_exporter": "python",
   "pygments_lexer": "ipython3",
   "version": "3.10.5"
  },
  "orig_nbformat": 4,
  "vscode": {
   "interpreter": {
    "hash": "eec23fa0608d04251c5cb9f7c09e60df3cb6bd24cb366e6f6e4b8a9091646567"
   }
  }
 },
 "nbformat": 4,
 "nbformat_minor": 2
}
